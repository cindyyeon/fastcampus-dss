{
 "cells": [
  {
   "cell_type": "markdown",
   "metadata": {},
   "source": [
    "### 6. 집합"
   ]
  },
  {
   "cell_type": "code",
   "execution_count": 3,
   "metadata": {},
   "outputs": [
    {
     "data": {
      "text/plain": [
       "{1, 2, 3}"
      ]
     },
     "execution_count": 3,
     "metadata": {},
     "output_type": "execute_result"
    }
   ],
   "source": [
    "A = set([1, 2, 3, 3, 2])\n",
    "A"
   ]
  },
  {
   "cell_type": "code",
   "execution_count": 2,
   "metadata": {},
   "outputs": [
    {
     "ename": "TypeError",
     "evalue": "unhashable type: 'list'",
     "output_type": "error",
     "traceback": [
      "\u001b[1;31m---------------------------------------------------------------------------\u001b[0m",
      "\u001b[1;31mTypeError\u001b[0m                                 Traceback (most recent call last)",
      "\u001b[1;32m<ipython-input-2-6e3ef038f963>\u001b[0m in \u001b[0;36m<module>\u001b[1;34m\u001b[0m\n\u001b[1;32m----> 1\u001b[1;33m \u001b[0mA\u001b[0m \u001b[1;33m=\u001b[0m \u001b[0mset\u001b[0m\u001b[1;33m(\u001b[0m\u001b[1;33m[\u001b[0m\u001b[1;36m1\u001b[0m\u001b[1;33m,\u001b[0m \u001b[1;33m[\u001b[0m\u001b[1;36m2\u001b[0m\u001b[1;33m,\u001b[0m \u001b[1;36m3\u001b[0m\u001b[1;33m]\u001b[0m\u001b[1;33m,\u001b[0m \u001b[1;36m3\u001b[0m\u001b[1;33m,\u001b[0m \u001b[1;36m4\u001b[0m\u001b[1;33m]\u001b[0m\u001b[1;33m)\u001b[0m\u001b[1;33m\u001b[0m\u001b[1;33m\u001b[0m\u001b[0m\n\u001b[0m\u001b[0;32m      2\u001b[0m \u001b[0mA\u001b[0m\u001b[1;33m\u001b[0m\u001b[1;33m\u001b[0m\u001b[0m\n",
      "\u001b[1;31mTypeError\u001b[0m: unhashable type: 'list'"
     ]
    }
   ],
   "source": [
    "A = set([1, [2, 3], 3, 4])\n",
    "A"
   ]
  },
  {
   "cell_type": "code",
   "execution_count": 7,
   "metadata": {},
   "outputs": [
    {
     "data": {
      "text/plain": [
       "{frozenset(),\n",
       " frozenset({'TH'}),\n",
       " frozenset({'HH'}),\n",
       " frozenset({'HT'}),\n",
       " frozenset({'TT'}),\n",
       " frozenset({'TH', 'TT'}),\n",
       " frozenset({'HH', 'TT'}),\n",
       " frozenset({'HT', 'TT'}),\n",
       " frozenset({'HH', 'HT', 'TT'}),\n",
       " frozenset({'HH', 'TH', 'TT'}),\n",
       " frozenset({'HH', 'HT'}),\n",
       " frozenset({'HH', 'TH'}),\n",
       " frozenset({'HT', 'TH'}),\n",
       " frozenset({'HT', 'TH', 'TT'}),\n",
       " frozenset({'HH', 'HT', 'TH'}),\n",
       " frozenset({'HH', 'HT', 'TH', 'TT'})}"
      ]
     },
     "execution_count": 7,
     "metadata": {},
     "output_type": "execute_result"
    }
   ],
   "source": [
    "# 연습문제 6.1.1\n",
    "\n",
    "A1 = frozenset([])\n",
    "A2 = frozenset(['HH'])\n",
    "A3 = frozenset(['HT'])\n",
    "A4 = frozenset(['TH'])\n",
    "A5 = frozenset(['TT'])\n",
    "A6 = frozenset(['HH', 'HT'])\n",
    "A7 = frozenset(['HH', 'TH'])\n",
    "A8 = frozenset(['HH', 'TT'])\n",
    "A9 = frozenset(['HT', 'TH'])\n",
    "A10 = frozenset(['HT', 'TT'])\n",
    "A11 = frozenset(['TH', 'TT'])\n",
    "A12 = frozenset(['HH', 'HT', 'TH'])\n",
    "A13 = frozenset(['HH', 'HT', 'TT'])\n",
    "A14 = frozenset(['HH', 'TH', 'TT'])\n",
    "A15 = frozenset(['HT', 'TH', 'TT'])\n",
    "A16 = frozenset(['HH', 'HT', 'TH', 'TT'])\n",
    "set([A1, A2, A3, A4, A5, A6, A7, A8, A9, A10, A11, A12, A13, A14, A15, A16])"
   ]
  },
  {
   "cell_type": "code",
   "execution_count": 13,
   "metadata": {},
   "outputs": [],
   "source": [
    "from itertools import chain, combinations\n",
    "\n",
    "def get_set_of_subsets(omega):\n",
    "    return set([frozenset(s) for s in chain.from_iterable(combinations(omega, r) for r in range(len(omega) + 1))])"
   ]
  },
  {
   "cell_type": "code",
   "execution_count": 14,
   "metadata": {},
   "outputs": [
    {
     "data": {
      "text/plain": [
       "{frozenset(),\n",
       " frozenset({'HT'}),\n",
       " frozenset({'TH'}),\n",
       " frozenset({'HT', 'TH'}),\n",
       " frozenset({'TT'}),\n",
       " frozenset({'TH', 'TT'}),\n",
       " frozenset({'HT', 'TT'}),\n",
       " frozenset({'HT', 'TH', 'TT'}),\n",
       " frozenset({'HH'}),\n",
       " frozenset({'HH', 'TT'}),\n",
       " frozenset({'HH', 'HT', 'TT'}),\n",
       " frozenset({'HH', 'TH'}),\n",
       " frozenset({'HH', 'TH', 'TT'}),\n",
       " frozenset({'HH', 'HT'}),\n",
       " frozenset({'HH', 'HT', 'TH'}),\n",
       " frozenset({'HH', 'HT', 'TH', 'TT'})}"
      ]
     },
     "execution_count": 14,
     "metadata": {},
     "output_type": "execute_result"
    }
   ],
   "source": [
    "get_set_of_subsets(A16)"
   ]
  },
  {
   "cell_type": "code",
   "execution_count": 15,
   "metadata": {},
   "outputs": [],
   "source": [
    "# 연습문제 6.1.2\n",
    "\n",
    "A = {1, 3, 5}\n",
    "B = {1, 2, 3}\n",
    "C = {2, 4, 6}"
   ]
  },
  {
   "cell_type": "code",
   "execution_count": 16,
   "metadata": {},
   "outputs": [
    {
     "data": {
      "text/plain": [
       "{1, 2, 3, 5}"
      ]
     },
     "execution_count": 16,
     "metadata": {},
     "output_type": "execute_result"
    }
   ],
   "source": [
    "A | (B & C)"
   ]
  },
  {
   "cell_type": "code",
   "execution_count": 17,
   "metadata": {},
   "outputs": [
    {
     "data": {
      "text/plain": [
       "{1, 2, 3, 5}"
      ]
     },
     "execution_count": 17,
     "metadata": {},
     "output_type": "execute_result"
    }
   ],
   "source": [
    "(A | B) & (A | C)"
   ]
  },
  {
   "cell_type": "code",
   "execution_count": 18,
   "metadata": {},
   "outputs": [
    {
     "data": {
      "text/plain": [
       "{1, 3}"
      ]
     },
     "execution_count": 18,
     "metadata": {},
     "output_type": "execute_result"
    }
   ],
   "source": [
    "A & (B | C)"
   ]
  },
  {
   "cell_type": "code",
   "execution_count": 19,
   "metadata": {},
   "outputs": [
    {
     "data": {
      "text/plain": [
       "{1, 3}"
      ]
     },
     "execution_count": 19,
     "metadata": {},
     "output_type": "execute_result"
    }
   ],
   "source": [
    "(A & B) | (A & C)"
   ]
  },
  {
   "cell_type": "markdown",
   "metadata": {},
   "source": [
    "### 5주차 확률"
   ]
  },
  {
   "cell_type": "code",
   "execution_count": 10,
   "metadata": {},
   "outputs": [
    {
     "data": {
      "text/plain": [
       "{frozenset({'diamond'}): 0.25,\n",
       " frozenset({'spade'}): 0.4,\n",
       " frozenset({'heart'}): 0.15,\n",
       " frozenset({'clover'}): 0.2}"
      ]
     },
     "execution_count": 10,
     "metadata": {},
     "output_type": "execute_result"
    }
   ],
   "source": [
    "# 연습문제 6.2.5\n",
    "A = frozenset(['diamond'])\n",
    "B = frozenset(['spade'])\n",
    "C = frozenset(['heart'])\n",
    "D = frozenset(['clover'])\n",
    "P = { A: 0.25, B : 0.4, C: 0.15, D : 0.2}\n",
    "P"
   ]
  },
  {
   "cell_type": "code",
   "execution_count": 18,
   "metadata": {},
   "outputs": [],
   "source": [
    "P = {A1: 0, A2: 0.25, A3: 0.25, A4: 0.25, A5: 0.25, \n",
    "     A6: 0.5, A7: 0.5, A8: 0.5, A9: 0.5, \n",
    "     A10: 0.5, A11: 0.5, A12: 0.75, A13: 0.75, A14: 0.75, A15: 0.75, A16: 1}"
   ]
  },
  {
   "cell_type": "code",
   "execution_count": 19,
   "metadata": {
    "scrolled": true
   },
   "outputs": [
    {
     "data": {
      "text/plain": [
       "{frozenset(): 0,\n",
       " frozenset({'HH'}): 0.25,\n",
       " frozenset({'HT'}): 0.25,\n",
       " frozenset({'TH'}): 0.25,\n",
       " frozenset({'TT'}): 0.25,\n",
       " frozenset({'HH', 'HT'}): 0.5,\n",
       " frozenset({'HH', 'TH'}): 0.5,\n",
       " frozenset({'HH', 'TT'}): 0.5,\n",
       " frozenset({'HT', 'TH'}): 0.5,\n",
       " frozenset({'HT', 'TT'}): 0.5,\n",
       " frozenset({'TH', 'TT'}): 0.5,\n",
       " frozenset({'HH', 'HT', 'TH'}): 0.75,\n",
       " frozenset({'HH', 'HT', 'TT'}): 0.75,\n",
       " frozenset({'HH', 'TH', 'TT'}): 0.75,\n",
       " frozenset({'HT', 'TH', 'TT'}): 0.75,\n",
       " frozenset({'HH', 'HT', 'TH', 'TT'}): 1}"
      ]
     },
     "execution_count": 19,
     "metadata": {},
     "output_type": "execute_result"
    }
   ],
   "source": [
    "P"
   ]
  },
  {
   "cell_type": "markdown",
   "metadata": {},
   "source": [
    "### 확률의 의미\n",
    "- 빈도주의 관점: 반복적으로 선택된 표본이 사건 A의 원소가 될 경향을 그 사건의 확률이라고 본다.\n",
    "- 베이지안 관점: 선택된 표본이 특정한 사건에 속한다는 가설, 명제 혹은 주장의 신뢰도"
   ]
  },
  {
   "cell_type": "code",
   "execution_count": null,
   "metadata": {},
   "outputs": [],
   "source": []
  }
 ],
 "metadata": {
  "kernelspec": {
   "display_name": "Python 3",
   "language": "python",
   "name": "python3"
  },
  "language_info": {
   "codemirror_mode": {
    "name": "ipython",
    "version": 3
   },
   "file_extension": ".py",
   "mimetype": "text/x-python",
   "name": "python",
   "nbconvert_exporter": "python",
   "pygments_lexer": "ipython3",
   "version": "3.8.5"
  }
 },
 "nbformat": 4,
 "nbformat_minor": 4
}
