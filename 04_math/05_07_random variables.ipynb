{
 "cells": [
  {
   "cell_type": "markdown",
   "metadata": {},
   "source": [
    "### 6주차\n",
    "- 데이터를 생성하는 확률변수 X의 pdf를 아는 것이 목표이다\n",
    "- 표본평균이라는 새로운 확률변수 X_bar의 기대값은 원래 확률변수 X의 기대값과 같으므로\n",
    "- 표본평균 x_bar는 X의 기대값과 비슷한 값이 나올 것이다.\n",
    "- 표본 갯수 N이 크면 표본평균 x_bar의 분산이 아주 작아지므로 표본평균의 값 x_bar는 항상 확률변수 X의 기대값 근처의 값이 나올 것이다"
   ]
  },
  {
   "cell_type": "code",
   "execution_count": 1,
   "metadata": {},
   "outputs": [],
   "source": [
    "# 연습문제 7.2.6"
   ]
  },
  {
   "cell_type": "code",
   "execution_count": 48,
   "metadata": {},
   "outputs": [],
   "source": [
    "trial = 50\n",
    "x_bar = []\n",
    "for i in range(trial):\n",
    "    x = np.random.normal(size = 100)\n",
    "    x_bar.append(np.mean(x))\n",
    "y = np.array(x_bar)\n"
   ]
  },
  {
   "cell_type": "code",
   "execution_count": 49,
   "metadata": {},
   "outputs": [
    {
     "data": {
      "image/png": "[encoded data removed]",
      "text/plain": [
       "<Figure size 432x288 with 2 Axes>"
      ]
     },
     "metadata": {},
     "output_type": "display_data"
    }
   ],
   "source": [
    "# 히스토그램\n",
    "bins = 30\n",
    "fig, axs = plt.subplots(1, 2, \n",
    "                        sharey=True, \n",
    "                        tight_layout=True\n",
    "                       )\n",
    "\n",
    "axs[0].hist(x, bins = bins)\n",
    "axs[1].hist(y, bins = bins)\n",
    "plt.xlim(-2, 2)\n",
    "plt.show()"
   ]
  },
  {
   "cell_type": "code",
   "execution_count": 27,
   "metadata": {},
   "outputs": [
    {
     "data": {
      "text/plain": [
       "-0.0066004626870396635"
      ]
     },
     "execution_count": 27,
     "metadata": {},
     "output_type": "execute_result"
    }
   ],
   "source": [
    "np.mean(y)\n",
    "# 0에 가까운 값이다"
   ]
  },
  {
   "cell_type": "code",
   "execution_count": 56,
   "metadata": {},
   "outputs": [],
   "source": [
    "# 표본평균 (N,)의 numpy array 반환 \n",
    "def x_bar(N = 100, samplesize = 100):\n",
    "    x_bar = []\n",
    "    for i in range(N):\n",
    "        x = np.random.normal(size = samplesize)\n",
    "        x_bar.append(np.mean(x))\n",
    "    y = np.array(x_bar)\n",
    "    return(y)\n"
   ]
  },
  {
   "cell_type": "code",
   "execution_count": 61,
   "metadata": {},
   "outputs": [
    {
     "name": "stdout",
     "output_type": "stream",
     "text": [
      "-0.0032419054156511595\n",
      "0.005144473122420312\n",
      "-0.0040478665714944115\n",
      "-0.0005250694425493187\n"
     ]
    }
   ],
   "source": [
    "y1 = x_bar(N = 50)\n",
    "y2 = x_bar(100, 100)\n",
    "y3 = x_bar(1000, 100)\n",
    "y4 = x_bar(10000, 100)\n",
    "print(np.mean(y1))\n",
    "print(np.mean(y2))\n",
    "print(np.mean(y3))\n",
    "print(np.mean(y4))"
   ]
  },
  {
   "cell_type": "code",
   "execution_count": 68,
   "metadata": {
    "scrolled": true
   },
   "outputs": [
    {
     "data": {
      "image/png": "[encoded data removed]",
      "text/plain": [
       "<Figure size 432x288 with 4 Axes>"
      ]
     },
     "metadata": {},
     "output_type": "display_data"
    }
   ],
   "source": [
    "bins = 10\n",
    "fig, axs = plt.subplots(2, 2, \n",
    "                        sharey=True, \n",
    "                        tight_layout=True\n",
    "                       )\n",
    "axs[0,0].hist(y1, bins = bins)\n",
    "axs[0,1].hist(y2, bins = bins)\n",
    "axs[1,0].hist(y3, bins = bins)\n",
    "axs[1,1].hist(y4, bins = bins)\n",
    "plt.xlim(-1, 1)\n",
    "plt.show()"
   ]
  },
  {
   "cell_type": "code",
   "execution_count": 74,
   "metadata": {},
   "outputs": [],
   "source": [
    "# 연습문제 7.3.2\n",
    "X1 = np.random.randint(0, 100, 100)\n",
    "X2 = np.random.randint(0, 100, 100)\n",
    "Y = X1 + X2"
   ]
  },
  {
   "cell_type": "code",
   "execution_count": 75,
   "metadata": {},
   "outputs": [
    {
     "name": "stdout",
     "output_type": "stream",
     "text": [
      "55.76041653729919\n",
      "43.38955980417409\n"
     ]
    }
   ],
   "source": [
    "print(np.std(X1) + np.std(X2))\n",
    "print(np.std(Y))"
   ]
  },
  {
   "cell_type": "code",
   "execution_count": 6,
   "metadata": {},
   "outputs": [
    {
     "data": {
      "text/plain": [
       "0.8717537758865832"
      ]
     },
     "execution_count": 6,
     "metadata": {},
     "output_type": "execute_result"
    }
   ],
   "source": [
    "from sklearn.datasets import load_iris # scikit-learn의 샘플 데이터 로드를 위해 import\n",
    "import scipy as sp\n",
    "\n",
    "X = load_iris().data\n",
    "x1 = X[:, 0]  # 꽃받침의 길이\n",
    "x2 = X[:, 1]  # 꽃받침의 폭\n",
    "x3 = X[:, 2]  # 꽃잎의 길이\n",
    "x4 = X[:, 3]  # 꽃잎의 폭\n",
    "sp.stats.pearsonr(x1, x3)[0]"
   ]
  },
  {
   "cell_type": "code",
   "execution_count": 7,
   "metadata": {},
   "outputs": [
    {
     "data": {
      "text/plain": [
       "array([[4.75      , 4.42166667, 4.35333333, ..., 2.915     , 2.475     ,\n",
       "        2.6       ],\n",
       "       [4.42166667, 4.14916667, 4.055     , ..., 2.95583333, 2.50416667,\n",
       "        2.62833333],\n",
       "       [4.35333333, 4.055     , 3.99      , ..., 2.68833333, 2.28166667,\n",
       "        2.39666667],\n",
       "       ...,\n",
       "       [2.915     , 2.95583333, 2.68833333, ..., 4.18916667, 3.65083333,\n",
       "        3.835     ],\n",
       "       [2.475     , 2.50416667, 2.28166667, ..., 3.65083333, 3.20916667,\n",
       "        3.375     ],\n",
       "       [2.6       , 2.62833333, 2.39666667, ..., 3.835     , 3.375     ,\n",
       "        3.55      ]])"
      ]
     },
     "execution_count": 7,
     "metadata": {},
     "output_type": "execute_result"
    }
   ],
   "source": [
    "np.cov(X)"
   ]
  },
  {
   "cell_type": "code",
   "execution_count": null,
   "metadata": {},
   "outputs": [],
   "source": []
  }
 ],
 "metadata": {
  "kernelspec": {
   "display_name": "Python 3",
   "language": "python",
   "name": "python3"
  },
  "language_info": {
   "codemirror_mode": {
    "name": "ipython",
    "version": 3
   },
   "file_extension": ".py",
   "mimetype": "text/x-python",
   "name": "python",
   "nbconvert_exporter": "python",
   "pygments_lexer": "ipython3",
   "version": "3.8.5"
  }
 },
 "nbformat": 4,
 "nbformat_minor": 4
}
