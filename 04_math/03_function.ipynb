{
 "cells": [
  {
   "cell_type": "markdown",
   "metadata": {},
   "source": [
    "### 4장 심파이(SymPy)로 공부하는 미적분"
   ]
  },
  {
   "cell_type": "markdown",
   "metadata": {},
   "source": [
    "#### 연습문제 4.1.1"
   ]
  },
  {
   "cell_type": "code",
   "execution_count": 14,
   "metadata": {},
   "outputs": [
    {
     "data": {
      "image/png": "[encoded data removed]",
      "text/plain": [
       "<Figure size 432x288 with 1 Axes>"
      ]
     },
     "metadata": {},
     "output_type": "display_data"
    }
   ],
   "source": [
    "# 부호함수의 그래프\n",
    "x = np.linspace(-3, 3, 100)\n",
    "y = np.sign(x)\n",
    "plt.plot(x, y, 'ro-')\n",
    "plt.xlim(-4, 4)\n",
    "plt.title(\"함수 $sign $의 그래프\")\n",
    "plt.xlabel(\"x\")\n",
    "plt.ylabel(\"y\")\n",
    "plt.show()"
   ]
  },
  {
   "cell_type": "code",
   "execution_count": 15,
   "metadata": {},
   "outputs": [
    {
     "data": {
      "image/png": "[encoded data removed]",
      "text/plain": [
       "<Figure size 432x288 with 1 Axes>"
      ]
     },
     "metadata": {},
     "output_type": "display_data"
    }
   ],
   "source": [
    "# 단위계단함수\n",
    "def heaviside_step(x):\n",
    "    if isinstance(x, np.ndarray):\n",
    "        return np.where(x >= 0, 1, 0)\n",
    "    else:\n",
    "        return 1.0 if x >= 0 else 0.0 \n",
    "\n",
    "x = np.linspace(-3, 3, 100)\n",
    "y = heaviside_step(x)\n",
    "plt.plot(x, y, 'ro-')\n",
    "plt.xlim(-4, 4)\n",
    "plt.title(\"함수 $heaviside step $의 그래프\")\n",
    "plt.xlabel(\"x\")\n",
    "plt.ylabel(\"y\")\n",
    "plt.show()"
   ]
  },
  {
   "cell_type": "code",
   "execution_count": 11,
   "metadata": {},
   "outputs": [
    {
     "data": {
      "text/plain": [
       "['NanumBarunGothic',\n",
       " 'NanumBarunGothic',\n",
       " 'NanumBarunGothic',\n",
       " 'NanumBarunGothic',\n",
       " 'NanumBarunGothic',\n",
       " 'NanumBarunGothic',\n",
       " 'NanumBarunGothic',\n",
       " 'NanumBarunGothic',\n",
       " 'NanumGothic',\n",
       " 'NanumGothic']"
      ]
     },
     "execution_count": 11,
     "metadata": {},
     "output_type": "execute_result"
    }
   ],
   "source": [
    "import matplotlib.font_manager\n",
    "\n",
    "matplotlib.font_manager._rebuild()\n",
    "sorted([f.name for f in matplotlib.font_manager.fontManager.ttflist if f.name.startswith(\"Nanum\")])"
   ]
  },
  {
   "cell_type": "code",
   "execution_count": 13,
   "metadata": {},
   "outputs": [],
   "source": [
    "# 폰트 설정\n",
    "mpl.rc('font', family='NanumGothic')\n",
    "# 유니코드에서  음수 부호설정\n",
    "mpl.rc('axes', unicode_minus=False)"
   ]
  },
  {
   "cell_type": "markdown",
   "metadata": {},
   "source": [
    "###  SymPy"
   ]
  },
  {
   "cell_type": "code",
   "execution_count": 4,
   "metadata": {},
   "outputs": [],
   "source": [
    "import sympy\n",
    "# Juypter 노트북에서 수학식의 LaTeX 표현을 위해 필요함\n",
    "sympy.init_printing(use_latex='mathjax')"
   ]
  },
  {
   "cell_type": "code",
   "execution_count": 5,
   "metadata": {},
   "outputs": [
    {
     "data": {
      "text/latex": [
       "$\\displaystyle x$"
      ],
      "text/plain": [
       "x"
      ]
     },
     "execution_count": 5,
     "metadata": {},
     "output_type": "execute_result"
    }
   ],
   "source": [
    "x = sympy.symbols('x')\n",
    "x"
   ]
  },
  {
   "cell_type": "code",
   "execution_count": 6,
   "metadata": {},
   "outputs": [
    {
     "data": {
      "text/plain": [
       "sympy.core.symbol.Symbol"
      ]
     },
     "execution_count": 6,
     "metadata": {},
     "output_type": "execute_result"
    }
   ],
   "source": [
    "type(x)"
   ]
  },
  {
   "cell_type": "code",
   "execution_count": 7,
   "metadata": {},
   "outputs": [
    {
     "data": {
      "text/latex": [
       "$\\displaystyle x e^{x}$"
      ],
      "text/plain": [
       "   x\n",
       "x⋅ℯ "
      ]
     },
     "execution_count": 7,
     "metadata": {},
     "output_type": "execute_result"
    }
   ],
   "source": [
    "f = x * sympy.exp(x)\n",
    "f"
   ]
  },
  {
   "cell_type": "code",
   "execution_count": 9,
   "metadata": {},
   "outputs": [
    {
     "data": {
      "text/latex": [
       "$\\displaystyle x e^{x} + e^{x}$"
      ],
      "text/plain": [
       "   x    x\n",
       "x⋅ℯ  + ℯ "
      ]
     },
     "execution_count": 9,
     "metadata": {},
     "output_type": "execute_result"
    }
   ],
   "source": [
    "sympy.diff(f)"
   ]
  },
  {
   "cell_type": "code",
   "execution_count": 11,
   "metadata": {},
   "outputs": [
    {
     "data": {
      "text/latex": [
       "$\\displaystyle x^{2} + 4 x y + y^{2}$"
      ],
      "text/plain": [
       " 2            2\n",
       "x  + 4⋅x⋅y + y "
      ]
     },
     "execution_count": 11,
     "metadata": {},
     "output_type": "execute_result"
    }
   ],
   "source": [
    "x, y = sympy.symbols('x y')\n",
    "f = x ** 2 + 4 * x * y + y **2\n",
    "f"
   ]
  },
  {
   "cell_type": "code",
   "execution_count": 12,
   "metadata": {},
   "outputs": [
    {
     "data": {
      "text/latex": [
       "$\\displaystyle 2 x + 4 y$"
      ],
      "text/plain": [
       "2⋅x + 4⋅y"
      ]
     },
     "execution_count": 12,
     "metadata": {},
     "output_type": "execute_result"
    }
   ],
   "source": [
    "sympy.diff(f, x)"
   ]
  },
  {
   "cell_type": "code",
   "execution_count": 13,
   "metadata": {},
   "outputs": [
    {
     "data": {
      "text/latex": [
       "$\\displaystyle 4 x + 2 y$"
      ],
      "text/plain": [
       "4⋅x + 2⋅y"
      ]
     },
     "execution_count": 13,
     "metadata": {},
     "output_type": "execute_result"
    }
   ],
   "source": [
    "sympy.diff(f, y)"
   ]
  },
  {
   "cell_type": "code",
   "execution_count": 15,
   "metadata": {},
   "outputs": [
    {
     "data": {
      "text/latex": [
       "$\\displaystyle e^{\\frac{\\left(- \\mu + x\\right)^{2}}{\\sigma^{2}}}$"
      ],
      "text/plain": [
       "         2\n",
       " (-μ + x) \n",
       " ─────────\n",
       "      2   \n",
       "     σ    \n",
       "ℯ         "
      ]
     },
     "execution_count": 15,
     "metadata": {},
     "output_type": "execute_result"
    }
   ],
   "source": [
    "x, mu, sigma = sympy.symbols('x mu sigma')\n",
    "f = sympy.exp((x - mu) ** 2 / sigma ** 2)\n",
    "f"
   ]
  },
  {
   "cell_type": "code",
   "execution_count": 16,
   "metadata": {},
   "outputs": [
    {
     "data": {
      "text/latex": [
       "$\\displaystyle \\frac{\\left(- 2 \\mu + 2 x\\right) e^{\\frac{\\left(- \\mu + x\\right)^{2}}{\\sigma^{2}}}}{\\sigma^{2}}$"
      ],
      "text/plain": [
       "                      2\n",
       "              (-μ + x) \n",
       "              ─────────\n",
       "                   2   \n",
       "                  σ    \n",
       "(-2⋅μ + 2⋅x)⋅ℯ         \n",
       "───────────────────────\n",
       "            2          \n",
       "           σ           "
      ]
     },
     "execution_count": 16,
     "metadata": {},
     "output_type": "execute_result"
    }
   ],
   "source": [
    "sympy.diff(f, x)"
   ]
  },
  {
   "cell_type": "code",
   "execution_count": 17,
   "metadata": {},
   "outputs": [
    {
     "data": {
      "text/latex": [
       "$\\displaystyle \\frac{2 \\left(- \\mu + x\\right) e^{\\frac{\\left(\\mu - x\\right)^{2}}{\\sigma^{2}}}}{\\sigma^{2}}$"
      ],
      "text/plain": [
       "                   2\n",
       "            (μ - x) \n",
       "            ────────\n",
       "                2   \n",
       "               σ    \n",
       "2⋅(-μ + x)⋅ℯ        \n",
       "────────────────────\n",
       "          2         \n",
       "         σ          "
      ]
     },
     "execution_count": 17,
     "metadata": {},
     "output_type": "execute_result"
    }
   ],
   "source": [
    "sympy.simplify(sympy.diff(f, x))"
   ]
  },
  {
   "cell_type": "code",
   "execution_count": 18,
   "metadata": {},
   "outputs": [
    {
     "data": {
      "text/latex": [
       "$\\displaystyle \\frac{2 \\left(1 + \\frac{2 \\left(\\mu - x\\right)^{2}}{\\sigma^{2}}\\right) e^{\\frac{\\left(\\mu - x\\right)^{2}}{\\sigma^{2}}}}{\\sigma^{2}}$"
      ],
      "text/plain": [
       "                           2\n",
       "                    (μ - x) \n",
       "                    ────────\n",
       "  ⎛             2⎞      2   \n",
       "  ⎜    2⋅(μ - x) ⎟     σ    \n",
       "2⋅⎜1 + ──────────⎟⋅ℯ        \n",
       "  ⎜         2    ⎟          \n",
       "  ⎝        σ     ⎠          \n",
       "────────────────────────────\n",
       "              2             \n",
       "             σ              "
      ]
     },
     "execution_count": 18,
     "metadata": {},
     "output_type": "execute_result"
    }
   ],
   "source": [
    "# 2차 도함수\n",
    "sympy.diff(f, x, x)"
   ]
  },
  {
   "cell_type": "code",
   "execution_count": 22,
   "metadata": {},
   "outputs": [
    {
     "data": {
      "text/latex": [
       "$\\displaystyle 3 x^{2}$"
      ],
      "text/plain": [
       "   2\n",
       "3⋅x "
      ]
     },
     "execution_count": 22,
     "metadata": {},
     "output_type": "execute_result"
    }
   ],
   "source": [
    "# 연습문제 4.2.5\n",
    "x = sympy.symbols('x')\n",
    "f1 = x ** 3 - 1\n",
    "sympy.diff(f1)"
   ]
  },
  {
   "cell_type": "code",
   "execution_count": 23,
   "metadata": {},
   "outputs": [
    {
     "data": {
      "text/latex": [
       "$\\displaystyle \\frac{2 x}{- 3 k + x^{2}}$"
      ],
      "text/plain": [
       "   2⋅x   \n",
       "─────────\n",
       "        2\n",
       "-3⋅k + x "
      ]
     },
     "execution_count": 23,
     "metadata": {},
     "output_type": "execute_result"
    }
   ],
   "source": [
    "x, k = sympy.symbols('x k')\n",
    "f2 = sympy.log(x ** 2 - 3 * k)\n",
    "sympy.diff(f2, x)"
   ]
  },
  {
   "cell_type": "code",
   "execution_count": 24,
   "metadata": {},
   "outputs": [
    {
     "data": {
      "text/latex": [
       "$\\displaystyle \\frac{a b x^{b} e^{a x^{b}}}{x}$"
      ],
      "text/plain": [
       "           b\n",
       "     b  a⋅x \n",
       "a⋅b⋅x ⋅ℯ    \n",
       "────────────\n",
       "     x      "
      ]
     },
     "execution_count": 24,
     "metadata": {},
     "output_type": "execute_result"
    }
   ],
   "source": [
    "x, a, b = sympy.symbols('x a b')\n",
    "f3 = sympy.exp(a * x ** b)\n",
    "sympy.diff(f3, x)"
   ]
  },
  {
   "cell_type": "code",
   "execution_count": 27,
   "metadata": {},
   "outputs": [
    {
     "data": {
      "text/latex": [
       "$\\displaystyle \\frac{x^{2} y}{2} + x$"
      ],
      "text/plain": [
       " 2      \n",
       "x ⋅y    \n",
       "──── + x\n",
       " 2      "
      ]
     },
     "execution_count": 27,
     "metadata": {},
     "output_type": "execute_result"
    }
   ],
   "source": [
    "# 연습문제 4.3.4\n",
    "x, y = sympy.symbols('x y')\n",
    "f = (1 + x * y)\n",
    "sympy.integrate(f, x)"
   ]
  },
  {
   "cell_type": "code",
   "execution_count": 28,
   "metadata": {},
   "outputs": [
    {
     "data": {
      "text/latex": [
       "$\\displaystyle \\frac{y e^{x^{2} + y^{2}}}{2}$"
      ],
      "text/plain": [
       "    2    2\n",
       "   x  + y \n",
       "y⋅ℯ       \n",
       "──────────\n",
       "    2     "
      ]
     },
     "execution_count": 28,
     "metadata": {},
     "output_type": "execute_result"
    }
   ],
   "source": [
    "f = x * y * sympy.exp(x ** 2 + y ** 2)\n",
    "sympy.integrate(f, x)"
   ]
  },
  {
   "cell_type": "code",
   "execution_count": 30,
   "metadata": {},
   "outputs": [
    {
     "data": {
      "text/latex": [
       "$\\displaystyle 10.0$"
      ],
      "text/plain": [
       "10.0000000000000"
      ]
     },
     "execution_count": 30,
     "metadata": {},
     "output_type": "execute_result"
    }
   ],
   "source": [
    "# 정적분\n",
    "x, y = sympy.symbols('x y')\n",
    "f = x ** 3 - 3 * x ** 2 + x + 6\n",
    "F = sympy.integrate(f)\n",
    "(F.subs(x, 2) - F.subs(x, 0)).evalf()"
   ]
  },
  {
   "cell_type": "code",
   "execution_count": 33,
   "metadata": {},
   "outputs": [
    {
     "data": {
      "text/latex": [
       "$\\displaystyle \\left( 10.0, \\  1.1102230246251565e-13\\right)$"
      ],
      "text/plain": [
       "(10.0, 1.1102230246251565e-13)"
      ]
     },
     "execution_count": 33,
     "metadata": {},
     "output_type": "execute_result"
    }
   ],
   "source": [
    "# 수치적분\n",
    "import scipy as sp\n",
    "def f(x):\n",
    "    return x ** 3 - 3 * x ** 2 + x + 6\n",
    "\n",
    "\n",
    "sp.integrate.quad(f, 0, 2)  # 정적분 (수치적분)"
   ]
  },
  {
   "cell_type": "code",
   "execution_count": 32,
   "metadata": {},
   "outputs": [],
   "source": [
    "# 연습문제 4.3.5\n"
   ]
  },
  {
   "cell_type": "code",
   "execution_count": null,
   "metadata": {},
   "outputs": [],
   "source": []
  }
 ],
 "metadata": {
  "kernelspec": {
   "display_name": "Python 3",
   "language": "python",
   "name": "python3"
  },
  "language_info": {
   "codemirror_mode": {
    "name": "ipython",
    "version": 3
   },
   "file_extension": ".py",
   "mimetype": "text/x-python",
   "name": "python",
   "nbconvert_exporter": "python",
   "pygments_lexer": "ipython3",
   "version": "3.8.5"
  }
 },
 "nbformat": 4,
 "nbformat_minor": 4
}
