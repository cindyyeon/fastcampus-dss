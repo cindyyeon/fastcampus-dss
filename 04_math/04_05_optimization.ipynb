{
 "cells": [
  {
   "cell_type": "markdown",
   "metadata": {},
   "source": [
    "### 5. 최적화 문제\n",
    "- 연습문제 5.1.1"
   ]
  },
  {
   "cell_type": "code",
   "execution_count": 2,
   "metadata": {},
   "outputs": [],
   "source": [
    "import scipy as sp\n",
    "import sympy"
   ]
  },
  {
   "cell_type": "code",
   "execution_count": 4,
   "metadata": {},
   "outputs": [
    {
     "data": {
      "text/latex": [
       "$\\displaystyle \\left(1 - x\\right)^{2} + 100 \\left(- x^{2} + y\\right)^{2}$"
      ],
      "text/plain": [
       "(1 - x)**2 + 100*(-x**2 + y)**2"
      ]
     },
     "execution_count": 4,
     "metadata": {},
     "output_type": "execute_result"
    }
   ],
   "source": [
    "x, y = sympy.symbols('x y')\n",
    "f1 = (1 - x)**2 + 100 * (y - x**2)**2\n",
    "f1"
   ]
  },
  {
   "cell_type": "code",
   "execution_count": 7,
   "metadata": {},
   "outputs": [
    {
     "name": "stdout",
     "output_type": "stream",
     "text": [
      "jab0 is : -400*x*(-x**2 + y) + 2*x - 2\n",
      "jab1 is : -200*x**2 + 200*y\n"
     ]
    }
   ],
   "source": [
    "jab0 = sympy.diff(f1, x)\n",
    "jab1 = sympy.diff(f1, y)\n",
    "print(\"jab0 is :\", jab0)\n",
    "print(\"jab1 is :\", jab1)"
   ]
  },
  {
   "cell_type": "code",
   "execution_count": 34,
   "metadata": {},
   "outputs": [
    {
     "data": {
      "text/plain": [
       "array([2, 2])"
      ]
     },
     "execution_count": 34,
     "metadata": {},
     "output_type": "execute_result"
    }
   ],
   "source": [
    "def f2(x):\n",
    "    return (1 - x[0])**2 + 100 * (x[1] - x[0]**2)**2\n",
    "\n",
    "# f2의 편미분을 np.array타입의 f2g로 한다.\n",
    "def f2g(x):\n",
    "    return np.array([-400 * x[0] * (-x[0]**2 + x[1]) + 2*x[0] - 2, -200*x[0]**2 + 200*x[1]])\n",
    "\n",
    "x0 = (-2, -2)"
   ]
  },
  {
   "cell_type": "code",
   "execution_count": 35,
   "metadata": {},
   "outputs": [
    {
     "name": "stdout",
     "output_type": "stream",
     "text": [
      "      fun: 5.2112890141803265e-12\n",
      " hess_inv: array([[0.49938636, 0.99860874],\n",
      "       [0.99860874, 2.00187364]])\n",
      "      jac: array([ 7.32138760e-05, -3.35902622e-05])\n",
      "  message: 'Desired error not necessarily achieved due to precision loss.'\n",
      "     nfev: 276\n",
      "      nit: 55\n",
      "     njev: 88\n",
      "   status: 2\n",
      "  success: False\n",
      "        x: array([0.99999854, 0.9999969 ])\n"
     ]
    }
   ],
   "source": [
    "result = sp.optimize.minimize(f2, x0)\n",
    "print(result)"
   ]
  },
  {
   "cell_type": "code",
   "execution_count": 36,
   "metadata": {},
   "outputs": [
    {
     "name": "stdout",
     "output_type": "stream",
     "text": [
      "      fun: 1.1533876670446542e-16\n",
      " hess_inv: array([[0.49933677, 0.9987296 ],\n",
      "       [0.9987296 , 2.00252766]])\n",
      "      jac: array([ 4.30116939e-07, -2.14563897e-07])\n",
      "  message: 'Optimization terminated successfully.'\n",
      "     nfev: 73\n",
      "      nit: 56\n",
      "     njev: 73\n",
      "   status: 0\n",
      "  success: True\n",
      "        x: array([1., 1.])\n"
     ]
    }
   ],
   "source": [
    "result = sp.optimize.minimize(f2, x0, jac = f2g)\n",
    "print(result)"
   ]
  },
  {
   "cell_type": "markdown",
   "metadata": {},
   "source": [
    "#### 제한조건을 가지는 최적화 문제\n",
    "- 연습문제 5.2.4"
   ]
  },
  {
   "cell_type": "code",
   "execution_count": 37,
   "metadata": {},
   "outputs": [],
   "source": [
    "def f2(x):\n",
    "    return np.sqrt((x[0] - 4)** 2 + (x[1] - 2)**2)\n",
    "\n",
    "k = 1\n",
    "def ieq_constraint(x):\n",
    "    return np.atleast_1d(k - np.sum(np.abs(x)))"
   ]
  },
  {
   "cell_type": "code",
   "execution_count": 38,
   "metadata": {},
   "outputs": [
    {
     "name": "stdout",
     "output_type": "stream",
     "text": [
      "Optimization terminated successfully    (Exit mode 0)\n",
      "            Current function value: 3.605551280732028\n",
      "            Iterations: 11\n",
      "            Function evaluations: 66\n",
      "            Gradient evaluations: 11\n"
     ]
    },
    {
     "data": {
      "text/plain": [
       "array([9.99999981e-01, 1.89941792e-08])"
      ]
     },
     "execution_count": 38,
     "metadata": {},
     "output_type": "execute_result"
    }
   ],
   "source": [
    "sp.optimize.fmin_slsqp(f2, np.array([0, 0]), ieqcons = [ieq_constraint])"
   ]
  },
  {
   "cell_type": "code",
   "execution_count": null,
   "metadata": {},
   "outputs": [],
   "source": []
  },
  {
   "cell_type": "code",
   "execution_count": null,
   "metadata": {},
   "outputs": [],
   "source": []
  }
 ],
 "metadata": {
  "kernelspec": {
   "display_name": "Python 3",
   "language": "python",
   "name": "python3"
  },
  "language_info": {
   "codemirror_mode": {
    "name": "ipython",
    "version": 3
   },
   "file_extension": ".py",
   "mimetype": "text/x-python",
   "name": "python",
   "nbconvert_exporter": "python",
   "pygments_lexer": "ipython3",
   "version": "3.8.5"
  }
 },
 "nbformat": 4,
 "nbformat_minor": 4
}
