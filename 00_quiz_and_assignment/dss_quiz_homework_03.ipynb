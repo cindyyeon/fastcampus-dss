{
 "cells": [
  {
   "cell_type": "markdown",
   "metadata": {},
   "source": [
    "### 3주차 퀴즈"
   ]
  },
  {
   "cell_type": "code",
   "execution_count": 1,
   "metadata": {},
   "outputs": [],
   "source": [
    "X = np.array([[1, 0, 1], [2, 3, 1], [1, 4, 3]])"
   ]
  },
  {
   "cell_type": "code",
   "execution_count": 2,
   "metadata": {},
   "outputs": [
    {
     "data": {
      "text/plain": [
       "3"
      ]
     },
     "execution_count": 2,
     "metadata": {},
     "output_type": "execute_result"
    }
   ],
   "source": [
    "np.linalg.matrix_rank(X)"
   ]
  },
  {
   "cell_type": "code",
   "execution_count": 3,
   "metadata": {},
   "outputs": [
    {
     "name": "stdout",
     "output_type": "stream",
     "text": [
      "w1 =  [ 4.74165739 -2.74165739]\n",
      "V1 =  [[0.99176035 0.25013046]\n",
      " [0.12810698 0.96821214]]\n"
     ]
    }
   ],
   "source": [
    "A = np.array([[5, -2], [1, -3]])\n",
    "w1, V1 = np.linalg.eig(A)\n",
    "\n",
    "print(\"w1 = \", w1)\n",
    "print(\"V1 = \", V1)"
   ]
  },
  {
   "cell_type": "code",
   "execution_count": 4,
   "metadata": {},
   "outputs": [
    {
     "data": {
      "text/plain": [
       "3"
      ]
     },
     "execution_count": 4,
     "metadata": {},
     "output_type": "execute_result"
    }
   ],
   "source": [
    "X2 = np.array([[1, 3, 5], [2, 3, 7], [9, 1, 2], [4, 8, 7], [6, 5, 2]])\n",
    "np.linalg.matrix_rank(X2)"
   ]
  },
  {
   "cell_type": "markdown",
   "metadata": {},
   "source": [
    "### 3주차 과제\n",
    "- 와인 도수 예측하기\n",
    "- [Intro] 와인에 대해 잘 아시나요? 화이트 와인의 경우 12도 ~ 13.5도, 레드 와인의 경우 12 ~ 15도 사이의 도수를 갖고 있으며 고급 와인일 수록 도수가 높은 편이라고 합니다.\n",
    "- 싸이킷런의 와인 데이터셋을 사용해 선형회귀분석으로 와인의 알코올 도수를 예측해 봅시다.\n",
    "    - 요구조건1. 와인 데이터셋의 상세 설명을 print() 하세요.\n",
    "    - 요구조건2. 와인 데이터를 데이터프레임으로 만들고 변수 y에 alcohol 칼럼을, X에 나머지 칼럼을 모두 저장해주세요\n",
    "    - 요구조건3. X_0 변수에 상수항을 추가한 X 데이터를 저장해주세요.\n",
    "    - 요구조건4. X_0과 y를 활용해 선형 회귀 모델을 만들고 summary를 print 하세요\n",
    "    - OLS을 사용하세요"
   ]
  },
  {
   "cell_type": "code",
   "execution_count": 5,
   "metadata": {},
   "outputs": [],
   "source": [
    "from sklearn.datasets import load_wine\n",
    "from statsmodels.regression.linear_model import OLS\n",
    "\n",
    "import pandas as pd\n",
    "import statsmodels.api as sm"
   ]
  },
  {
   "cell_type": "code",
   "execution_count": 6,
   "metadata": {},
   "outputs": [
    {
     "name": "stdout",
     "output_type": "stream",
     "text": [
      ".. _wine_dataset:\n",
      "\n",
      "Wine recognition dataset\n",
      "------------------------\n",
      "\n",
      "**Data Set Characteristics:**\n",
      "\n",
      "    :Number of Instances: 178 (50 in each of three classes)\n",
      "    :Number of Attributes: 13 numeric, predictive attributes and the class\n",
      "    :Attribute Information:\n",
      " \t\t- Alcohol\n",
      " \t\t- Malic acid\n",
      " \t\t- Ash\n",
      "\t\t- Alcalinity of ash  \n",
      " \t\t- Magnesium\n",
      "\t\t- Total phenols\n",
      " \t\t- Flavanoids\n",
      " \t\t- Nonflavanoid phenols\n",
      " \t\t- Proanthocyanins\n",
      "\t\t- Color intensity\n",
      " \t\t- Hue\n",
      " \t\t- OD280/OD315 of diluted wines\n",
      " \t\t- Proline\n",
      "\n",
      "    - class:\n",
      "            - class_0\n",
      "            - class_1\n",
      "            - class_2\n",
      "\t\t\n",
      "    :Summary Statistics:\n",
      "    \n",
      "    ============================= ==== ===== ======= =====\n",
      "                                   Min   Max   Mean     SD\n",
      "    ============================= ==== ===== ======= =====\n",
      "    Alcohol:                      11.0  14.8    13.0   0.8\n",
      "    Malic Acid:                   0.74  5.80    2.34  1.12\n",
      "    Ash:                          1.36  3.23    2.36  0.27\n",
      "    Alcalinity of Ash:            10.6  30.0    19.5   3.3\n",
      "    Magnesium:                    70.0 162.0    99.7  14.3\n",
      "    Total Phenols:                0.98  3.88    2.29  0.63\n",
      "    Flavanoids:                   0.34  5.08    2.03  1.00\n",
      "    Nonflavanoid Phenols:         0.13  0.66    0.36  0.12\n",
      "    Proanthocyanins:              0.41  3.58    1.59  0.57\n",
      "    Colour Intensity:              1.3  13.0     5.1   2.3\n",
      "    Hue:                          0.48  1.71    0.96  0.23\n",
      "    OD280/OD315 of diluted wines: 1.27  4.00    2.61  0.71\n",
      "    Proline:                       278  1680     746   315\n",
      "    ============================= ==== ===== ======= =====\n",
      "\n",
      "    :Missing Attribute Values: None\n",
      "    :Class Distribution: class_0 (59), class_1 (71), class_2 (48)\n",
      "    :Creator: R.A. Fisher\n",
      "    :Donor: Michael Marshall (MARSHALL%PLU@io.arc.nasa.gov)\n",
      "    :Date: July, 1988\n",
      "\n",
      "This is a copy of UCI ML Wine recognition datasets.\n",
      "https://archive.ics.uci.edu/ml/machine-learning-databases/wine/wine.data\n",
      "\n",
      "The data is the results of a chemical analysis of wines grown in the same\n",
      "region in Italy by three different cultivators. There are thirteen different\n",
      "measurements taken for different constituents found in the three types of\n",
      "wine.\n",
      "\n",
      "Original Owners: \n",
      "\n",
      "Forina, M. et al, PARVUS - \n",
      "An Extendible Package for Data Exploration, Classification and Correlation. \n",
      "Institute of Pharmaceutical and Food Analysis and Technologies,\n",
      "Via Brigata Salerno, 16147 Genoa, Italy.\n",
      "\n",
      "Citation:\n",
      "\n",
      "Lichman, M. (2013). UCI Machine Learning Repository\n",
      "[https://archive.ics.uci.edu/ml]. Irvine, CA: University of California,\n",
      "School of Information and Computer Science. \n",
      "\n",
      ".. topic:: References\n",
      "\n",
      "  (1) S. Aeberhard, D. Coomans and O. de Vel, \n",
      "  Comparison of Classifiers in High Dimensional Settings, \n",
      "  Tech. Rep. no. 92-02, (1992), Dept. of Computer Science and Dept. of  \n",
      "  Mathematics and Statistics, James Cook University of North Queensland. \n",
      "  (Also submitted to Technometrics). \n",
      "\n",
      "  The data was used with many others for comparing various \n",
      "  classifiers. The classes are separable, though only RDA \n",
      "  has achieved 100% correct classification. \n",
      "  (RDA : 100%, QDA 99.4%, LDA 98.9%, 1NN 96.1% (z-transformed data)) \n",
      "  (All results using the leave-one-out technique) \n",
      "\n",
      "  (2) S. Aeberhard, D. Coomans and O. de Vel, \n",
      "  \"THE CLASSIFICATION PERFORMANCE OF RDA\" \n",
      "  Tech. Rep. no. 92-01, (1992), Dept. of Computer Science and Dept. of \n",
      "  Mathematics and Statistics, James Cook University of North Queensland. \n",
      "  (Also submitted to Journal of Chemometrics).\n",
      "\n"
     ]
    }
   ],
   "source": [
    "# 요구조건1. 와인 데이터셋의 상세 설명을 print() 하세요.\n",
    "wine = load_wine()\n",
    "print(wine.DESCR)"
   ]
  },
  {
   "cell_type": "code",
   "execution_count": 7,
   "metadata": {},
   "outputs": [],
   "source": [
    "# 요구조건2. 와인 데이터를 데이터프레임으로 만들고 변수 y에 alcohol 칼럼을, X에 나머지 칼럼을 모두 저장해주세요\n",
    "# 요구조건3. X_0 변수에 상수항을 추가한 X 데이터를 저장해주세요.\n",
    "wine_df = pd.DataFrame(wine.data, columns = wine.feature_names)\n",
    "columns = wine.feature_names[1:]\n",
    "X = wine_df[columns]\n",
    "\n",
    "X0 = sm.add_constant(X)\n",
    "y = wine_df['alcohol']"
   ]
  },
  {
   "cell_type": "code",
   "execution_count": 8,
   "metadata": {},
   "outputs": [
    {
     "name": "stdout",
     "output_type": "stream",
     "text": [
      "                            OLS Regression Results                            \n",
      "==============================================================================\n",
      "Dep. Variable:                alcohol   R-squared:                       0.594\n",
      "Model:                            OLS   Adj. R-squared:                  0.564\n",
      "Method:                 Least Squares   F-statistic:                     20.08\n",
      "Date:                Sun, 21 Feb 2021   Prob (F-statistic):           1.61e-26\n",
      "Time:                        12:22:22   Log-Likelihood:                -134.83\n",
      "No. Observations:                 178   AIC:                             295.7\n",
      "Df Residuals:                     165   BIC:                             337.0\n",
      "Df Model:                          12                                         \n",
      "Covariance Type:            nonrobust                                         \n",
      "================================================================================================\n",
      "                                   coef    std err          t      P>|t|      [0.025      0.975]\n",
      "------------------------------------------------------------------------------------------------\n",
      "const                           11.0718      0.596     18.567      0.000       9.894      12.249\n",
      "malic_acid                       0.1316      0.045      2.907      0.004       0.042       0.221\n",
      "ash                              0.1379      0.217      0.636      0.526      -0.290       0.566\n",
      "alcalinity_of_ash               -0.0378      0.018     -2.122      0.035      -0.073      -0.003\n",
      "magnesium                     4.179e-06      0.003      0.001      0.999      -0.007       0.007\n",
      "total_phenols                    0.0521      0.134      0.389      0.698      -0.212       0.317\n",
      "flavanoids                       0.0091      0.107      0.085      0.932      -0.202       0.220\n",
      "nonflavanoid_phenols            -0.2078      0.434     -0.479      0.632      -1.064       0.648\n",
      "proanthocyanins                 -0.1525      0.098     -1.552      0.122      -0.346       0.041\n",
      "color_intensity                  0.1630      0.027      5.941      0.000       0.109       0.217\n",
      "hue                              0.2169      0.281      0.772      0.441      -0.338       0.772\n",
      "od280/od315_of_diluted_wines     0.1608      0.110      1.466      0.145      -0.056       0.377\n",
      "proline                          0.0010      0.000      5.081      0.000       0.001       0.001\n",
      "==============================================================================\n",
      "Omnibus:                        0.348   Durbin-Watson:                   1.998\n",
      "Prob(Omnibus):                  0.840   Jarque-Bera (JB):                0.121\n",
      "Skew:                           0.025   Prob(JB):                        0.941\n",
      "Kurtosis:                       3.118   Cond. No.                     1.27e+04\n",
      "==============================================================================\n",
      "\n",
      "Notes:\n",
      "[1] Standard Errors assume that the covariance matrix of the errors is correctly specified.\n",
      "[2] The condition number is large, 1.27e+04. This might indicate that there are\n",
      "strong multicollinearity or other numerical problems.\n"
     ]
    }
   ],
   "source": [
    "model_wine = OLS(y, X0)\n",
    "result_wine = model_wine.fit()\n",
    "print(result_wine.summary())"
   ]
  },
  {
   "cell_type": "code",
   "execution_count": null,
   "metadata": {},
   "outputs": [],
   "source": []
  }
 ],
 "metadata": {
  "kernelspec": {
   "display_name": "Python 3",
   "language": "python",
   "name": "python3"
  },
  "language_info": {
   "codemirror_mode": {
    "name": "ipython",
    "version": 3
   },
   "file_extension": ".py",
   "mimetype": "text/x-python",
   "name": "python",
   "nbconvert_exporter": "python",
   "pygments_lexer": "ipython3",
   "version": "3.8.5"
  }
 },
 "nbformat": 4,
 "nbformat_minor": 4
}
