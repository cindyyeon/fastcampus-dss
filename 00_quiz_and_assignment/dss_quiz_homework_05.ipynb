{
 "cells": [
  {
   "cell_type": "markdown",
   "metadata": {},
   "source": [
    "### 5주차 과제"
   ]
  },
  {
   "cell_type": "markdown",
   "metadata": {},
   "source": [
    "#### pgmpy를 이용한 검사 시약 문제\n",
    "pgmpy 패키지를 검사 시약 문제를 사용해 풀 수 있습니다.\n",
    "\n",
    "생소한 내용일 수 있으니 아래의 페이지를 참고해 풀이해 주세요.\n",
    "\n",
    "http://datascienceschool.net/02%20mathematics/06.06%20%EB%B2%A0%EC%9D%B4%EC%A6%88%20%EC%A0%95%EB%A6%AC.html\n",
    "\n",
    "#### 문제 조건\n",
    "- 병에 걸린 사람을 테스트했을 때 양성 반응이 나올 확률 0.97\n",
    "- 전체 인구 중 병에 걸린 비율 10%\n",
    "- 병에 걸리지 않았는데 테스트 양성 반응이 나올 확률 0.05"
   ]
  },
  {
   "cell_type": "markdown",
   "metadata": {},
   "source": [
    "#### 요구조건 1\n",
    "- TabularCPD를 사용해서 cpd_X에 다음을 표현하라\n",
    "    - 병에 걸리지 않을 확률 X(0)\n",
    "    - 병에 걸릴 확률 X(1)"
   ]
  },
  {
   "cell_type": "code",
   "execution_count": 1,
   "metadata": {},
   "outputs": [
    {
     "name": "stdout",
     "output_type": "stream",
     "text": [
      "+------+-----+\n",
      "| X(0) | 0.9 |\n",
      "+------+-----+\n",
      "| X(1) | 0.1 |\n",
      "+------+-----+\n"
     ]
    }
   ],
   "source": [
    "from pgmpy.factors.discrete import TabularCPD\n",
    "import numpy as np\n",
    "\n",
    "cpd_X = TabularCPD('X', 2, [[0.9], [0.1]])\n",
    "print(cpd_X)"
   ]
  },
  {
   "cell_type": "markdown",
   "metadata": {},
   "source": [
    "##### 요구조건 2\n",
    "- TabularCPD를 이용해 테스트 양성이 나올 확률 P(S) = P(Y = 1)으로 정의할 때\n",
    "    - cpd_Y_on_X 변수에 P(Y|X)를 구현하시오"
   ]
  },
  {
   "cell_type": "code",
   "execution_count": 3,
   "metadata": {},
   "outputs": [
    {
     "name": "stdout",
     "output_type": "stream",
     "text": [
      "+------+------+------+\n",
      "| X    | X(0) | X(1) |\n",
      "+------+------+------+\n",
      "| Y(0) | 0.95 | 0.03 |\n",
      "+------+------+------+\n",
      "| Y(1) | 0.05 | 0.97 |\n",
      "+------+------+------+\n"
     ]
    }
   ],
   "source": [
    "cpd_Y_on_X = TabularCPD('Y', 2, np.array([[0.95, 0.03], [0.05, 0.97]]), \n",
    "                       evidence=['X'], evidence_card=[2])\n",
    "print(cpd_Y_on_X)"
   ]
  },
  {
   "cell_type": "markdown",
   "metadata": {},
   "source": [
    "#### 요구조건 3\n",
    "- BayesianModel를 사용해 cpd_X와 cpd_Y_on_X를 조건부확률로 추가하고 모형이 정상인지 확인하세요"
   ]
  },
  {
   "cell_type": "code",
   "execution_count": 4,
   "metadata": {},
   "outputs": [
    {
     "data": {
      "text/plain": [
       "True"
      ]
     },
     "execution_count": 4,
     "metadata": {},
     "output_type": "execute_result"
    }
   ],
   "source": [
    "from pgmpy.models import BayesianModel\n",
    "\n",
    "model = BayesianModel([('X', 'Y')])\n",
    "model.add_cpds(cpd_X, cpd_Y_on_X)\n",
    "model.check_model()"
   ]
  },
  {
   "cell_type": "markdown",
   "metadata": {},
   "source": [
    "#### 요구조건 4\n",
    "- VariableElimination 클래스를 사용해 inference 객체를 만들고\n",
    "- query 메서드를 사용한 사후 확률을 posterior에 저장 및 posetrior['X']를 출력해주세요"
   ]
  },
  {
   "cell_type": "code",
   "execution_count": 6,
   "metadata": {},
   "outputs": [
    {
     "name": "stdout",
     "output_type": "stream",
     "text": [
      "+------+----------+\n",
      "| X    |   phi(X) |\n",
      "+======+==========+\n",
      "| X(0) |   0.3169 |\n",
      "+------+----------+\n",
      "| X(1) |   0.6831 |\n",
      "+------+----------+\n"
     ]
    }
   ],
   "source": [
    "from pgmpy.inference import VariableElimination\n",
    "\n",
    "inference = VariableElimination(model)\n",
    "posterior = inference.query(['X'], evidence={'Y': 1}, joint=False, show_progress=False)\n",
    "print(posterior['X'])"
   ]
  },
  {
   "cell_type": "markdown",
   "metadata": {},
   "source": [
    "### 5주차 퀴즈"
   ]
  },
  {
   "cell_type": "code",
   "execution_count": 7,
   "metadata": {},
   "outputs": [
    {
     "data": {
      "text/plain": [
       "3.5"
      ]
     },
     "execution_count": 7,
     "metadata": {},
     "output_type": "execute_result"
    }
   ],
   "source": [
    "#4번\n",
    "1 * 1/3 + 2 * 1/9 + 3 * 1/18 + 4 * 1/18 + 5 * 1/9 + 6 * 1/3"
   ]
  },
  {
   "cell_type": "code",
   "execution_count": 10,
   "metadata": {},
   "outputs": [],
   "source": [
    "x = np.linspace(1, 6, 6)\n",
    "px = [1/3, 1/9, 1/18, 1/18, 1/9, 1/3]"
   ]
  },
  {
   "cell_type": "code",
   "execution_count": 13,
   "metadata": {},
   "outputs": [
    {
     "data": {
      "text/plain": [
       "3.5"
      ]
     },
     "execution_count": 13,
     "metadata": {},
     "output_type": "execute_result"
    }
   ],
   "source": [
    "sum(x * px)"
   ]
  },
  {
   "cell_type": "code",
   "execution_count": 12,
   "metadata": {},
   "outputs": [
    {
     "data": {
      "text/plain": [
       "3.5"
      ]
     },
     "execution_count": 12,
     "metadata": {},
     "output_type": "execute_result"
    }
   ],
   "source": []
  },
  {
   "cell_type": "code",
   "execution_count": null,
   "metadata": {},
   "outputs": [],
   "source": []
  }
 ],
 "metadata": {
  "kernelspec": {
   "display_name": "Python 3",
   "language": "python",
   "name": "python3"
  },
  "language_info": {
   "codemirror_mode": {
    "name": "ipython",
    "version": 3
   },
   "file_extension": ".py",
   "mimetype": "text/x-python",
   "name": "python",
   "nbconvert_exporter": "python",
   "pygments_lexer": "ipython3",
   "version": "3.8.5"
  }
 },
 "nbformat": 4,
 "nbformat_minor": 4
}
